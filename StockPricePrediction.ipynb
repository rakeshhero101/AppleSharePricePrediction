{
  "nbformat": 4,
  "nbformat_minor": 0,
  "metadata": {
    "colab": {
      "name": "StockPricePrediction.ipynb",
      "provenance": [],
      "collapsed_sections": [],
      "authorship_tag": "ABX9TyPjiAwkFjcSWDh4MOTRxFEu",
      "include_colab_link": true
    },
    "kernelspec": {
      "name": "python3",
      "display_name": "Python 3"
    }
  },
  "cells": [
    {
      "cell_type": "markdown",
      "metadata": {
        "id": "view-in-github",
        "colab_type": "text"
      },
      "source": [
        "<a href=\"https://colab.research.google.com/github/rakeshhero101/AppleSharePricePrediction/blob/main/StockPricePrediction.ipynb\" target=\"_parent\"><img src=\"https://colab.research.google.com/assets/colab-badge.svg\" alt=\"Open In Colab\"/></a>"
      ]
    },
    {
      "cell_type": "code",
      "metadata": {
        "id": "8rWTds0AspBx"
      },
      "source": [
        "# Description: This program uses AI recurrent neural network called long short term memory (LSTM) to predict the closing stock price of corporation (Apple INC.)\n",
        "# Using the past 60 day stock price."
      ],
      "execution_count": 1,
      "outputs": []
    },
    {
      "cell_type": "code",
      "metadata": {
        "id": "Qb10vaNOtOlt"
      },
      "source": [
        "# Import the libraries\n",
        "import math \n",
        "import pandas_datareader as web\n",
        "import numpy as np\n",
        "import pandas as pd\n",
        "from sklearn.preprocessing import MinMaxScaler\n",
        "from keras.models import Sequential \n",
        "from keras.layers import Dense, LSTM\n",
        "import matplotlib.pyplot as plt\n",
        "plt.style.use('fivethirtyeight')"
      ],
      "execution_count": 2,
      "outputs": []
    },
    {
      "cell_type": "code",
      "metadata": {
        "id": "vRBD8efusxpL",
        "colab": {
          "base_uri": "https://localhost:8080/",
          "height": 450
        },
        "outputId": "418562e4-4cc2-4afb-9ec1-53c931eb154a"
      },
      "source": [
        "# Get the stock quote\n",
        "df = web.DataReader('AAPL', data_source='yahoo', start='2012-01-01', end='2020-11-17')\n",
        "\n",
        "#show the data\n",
        "df"
      ],
      "execution_count": 3,
      "outputs": [
        {
          "output_type": "execute_result",
          "data": {
            "text/html": [
              "<div>\n",
              "<style scoped>\n",
              "    .dataframe tbody tr th:only-of-type {\n",
              "        vertical-align: middle;\n",
              "    }\n",
              "\n",
              "    .dataframe tbody tr th {\n",
              "        vertical-align: top;\n",
              "    }\n",
              "\n",
              "    .dataframe thead th {\n",
              "        text-align: right;\n",
              "    }\n",
              "</style>\n",
              "<table border=\"1\" class=\"dataframe\">\n",
              "  <thead>\n",
              "    <tr style=\"text-align: right;\">\n",
              "      <th></th>\n",
              "      <th>High</th>\n",
              "      <th>Low</th>\n",
              "      <th>Open</th>\n",
              "      <th>Close</th>\n",
              "      <th>Volume</th>\n",
              "      <th>Adj Close</th>\n",
              "    </tr>\n",
              "    <tr>\n",
              "      <th>Date</th>\n",
              "      <th></th>\n",
              "      <th></th>\n",
              "      <th></th>\n",
              "      <th></th>\n",
              "      <th></th>\n",
              "      <th></th>\n",
              "    </tr>\n",
              "  </thead>\n",
              "  <tbody>\n",
              "    <tr>\n",
              "      <th>2012-01-03</th>\n",
              "      <td>14.732142</td>\n",
              "      <td>14.607142</td>\n",
              "      <td>14.621428</td>\n",
              "      <td>14.686786</td>\n",
              "      <td>302220800.0</td>\n",
              "      <td>12.566676</td>\n",
              "    </tr>\n",
              "    <tr>\n",
              "      <th>2012-01-04</th>\n",
              "      <td>14.810000</td>\n",
              "      <td>14.617143</td>\n",
              "      <td>14.642858</td>\n",
              "      <td>14.765715</td>\n",
              "      <td>260022000.0</td>\n",
              "      <td>12.634213</td>\n",
              "    </tr>\n",
              "    <tr>\n",
              "      <th>2012-01-05</th>\n",
              "      <td>14.948215</td>\n",
              "      <td>14.738214</td>\n",
              "      <td>14.819643</td>\n",
              "      <td>14.929643</td>\n",
              "      <td>271269600.0</td>\n",
              "      <td>12.774481</td>\n",
              "    </tr>\n",
              "    <tr>\n",
              "      <th>2012-01-06</th>\n",
              "      <td>15.098214</td>\n",
              "      <td>14.972143</td>\n",
              "      <td>14.991786</td>\n",
              "      <td>15.085714</td>\n",
              "      <td>318292800.0</td>\n",
              "      <td>12.908023</td>\n",
              "    </tr>\n",
              "    <tr>\n",
              "      <th>2012-01-09</th>\n",
              "      <td>15.276786</td>\n",
              "      <td>15.048214</td>\n",
              "      <td>15.196428</td>\n",
              "      <td>15.061786</td>\n",
              "      <td>394024400.0</td>\n",
              "      <td>12.887549</td>\n",
              "    </tr>\n",
              "    <tr>\n",
              "      <th>...</th>\n",
              "      <td>...</td>\n",
              "      <td>...</td>\n",
              "      <td>...</td>\n",
              "      <td>...</td>\n",
              "      <td>...</td>\n",
              "      <td>...</td>\n",
              "    </tr>\n",
              "    <tr>\n",
              "      <th>2020-11-11</th>\n",
              "      <td>119.629997</td>\n",
              "      <td>116.440002</td>\n",
              "      <td>117.190002</td>\n",
              "      <td>119.489998</td>\n",
              "      <td>112295000.0</td>\n",
              "      <td>119.489998</td>\n",
              "    </tr>\n",
              "    <tr>\n",
              "      <th>2020-11-12</th>\n",
              "      <td>120.529999</td>\n",
              "      <td>118.570000</td>\n",
              "      <td>119.620003</td>\n",
              "      <td>119.209999</td>\n",
              "      <td>103162300.0</td>\n",
              "      <td>119.209999</td>\n",
              "    </tr>\n",
              "    <tr>\n",
              "      <th>2020-11-13</th>\n",
              "      <td>119.669998</td>\n",
              "      <td>117.870003</td>\n",
              "      <td>119.440002</td>\n",
              "      <td>119.260002</td>\n",
              "      <td>81581900.0</td>\n",
              "      <td>119.260002</td>\n",
              "    </tr>\n",
              "    <tr>\n",
              "      <th>2020-11-16</th>\n",
              "      <td>120.989998</td>\n",
              "      <td>118.150002</td>\n",
              "      <td>118.919998</td>\n",
              "      <td>120.300003</td>\n",
              "      <td>91183000.0</td>\n",
              "      <td>120.300003</td>\n",
              "    </tr>\n",
              "    <tr>\n",
              "      <th>2020-11-17</th>\n",
              "      <td>120.669998</td>\n",
              "      <td>118.959999</td>\n",
              "      <td>119.550003</td>\n",
              "      <td>119.389999</td>\n",
              "      <td>74271000.0</td>\n",
              "      <td>119.389999</td>\n",
              "    </tr>\n",
              "  </tbody>\n",
              "</table>\n",
              "<p>2235 rows × 6 columns</p>\n",
              "</div>"
            ],
            "text/plain": [
              "                  High         Low  ...       Volume   Adj Close\n",
              "Date                                ...                         \n",
              "2012-01-03   14.732142   14.607142  ...  302220800.0   12.566676\n",
              "2012-01-04   14.810000   14.617143  ...  260022000.0   12.634213\n",
              "2012-01-05   14.948215   14.738214  ...  271269600.0   12.774481\n",
              "2012-01-06   15.098214   14.972143  ...  318292800.0   12.908023\n",
              "2012-01-09   15.276786   15.048214  ...  394024400.0   12.887549\n",
              "...                ...         ...  ...          ...         ...\n",
              "2020-11-11  119.629997  116.440002  ...  112295000.0  119.489998\n",
              "2020-11-12  120.529999  118.570000  ...  103162300.0  119.209999\n",
              "2020-11-13  119.669998  117.870003  ...   81581900.0  119.260002\n",
              "2020-11-16  120.989998  118.150002  ...   91183000.0  120.300003\n",
              "2020-11-17  120.669998  118.959999  ...   74271000.0  119.389999\n",
              "\n",
              "[2235 rows x 6 columns]"
            ]
          },
          "metadata": {
            "tags": []
          },
          "execution_count": 3
        }
      ]
    },
    {
      "cell_type": "code",
      "metadata": {
        "id": "rYruG0y_uFOD",
        "colab": {
          "base_uri": "https://localhost:8080/"
        },
        "outputId": "fcc8ba7c-abd4-4b17-96d8-1bf08b4dbc12"
      },
      "source": [
        "# Get the number of rows and columns in the dataset\n",
        "df.shape"
      ],
      "execution_count": 4,
      "outputs": [
        {
          "output_type": "execute_result",
          "data": {
            "text/plain": [
              "(2235, 6)"
            ]
          },
          "metadata": {
            "tags": []
          },
          "execution_count": 4
        }
      ]
    },
    {
      "cell_type": "code",
      "metadata": {
        "id": "JJVftMRBuUnE",
        "colab": {
          "base_uri": "https://localhost:8080/",
          "height": 558
        },
        "outputId": "406c7292-f4e7-4851-9518-9c12f7d1f269"
      },
      "source": [
        "# visualize the closing price history \n",
        "plt.figure(figsize=(16,8))\n",
        "plt.title('Close Price History')\n",
        "plt.plot(df['Close'])\n",
        "plt.xlabel('Date', fontsize=18)\n",
        "plt.ylabel('Close Price USD ($)', fontsize=18)\n",
        "plt.show()"
      ],
      "execution_count": 5,
      "outputs": [
        {
          "output_type": "display_data",
          "data": {
            "image/png": "[encoded data removed]",
            "text/plain": [
              "<Figure size 1152x576 with 1 Axes>"
            ]
          },
          "metadata": {
            "tags": []
          }
        }
      ]
    },
    {
      "cell_type": "code",
      "metadata": {
        "id": "jTtnkRoRu4Qp",
        "colab": {
          "base_uri": "https://localhost:8080/"
        },
        "outputId": "68c5fd28-89a9-4924-ef20-7dbe98df814f"
      },
      "source": [
        "# Create new DF with only the close column\n",
        "data = df.filter(['Close'])\n",
        "\n",
        "# convert the DF to an numpy array\n",
        "dataset = data.values\n",
        "\n",
        "#Get the number of rows to train the model on\n",
        "\n",
        "training_data_len = math.ceil(len(dataset) * .8)\n",
        "\n",
        "training_data_len\n"
      ],
      "execution_count": 6,
      "outputs": [
        {
          "output_type": "execute_result",
          "data": {
            "text/plain": [
              "1788"
            ]
          },
          "metadata": {
            "tags": []
          },
          "execution_count": 6
        }
      ]
    },
    {
      "cell_type": "code",
      "metadata": {
        "id": "7fB1oHmivp7y",
        "colab": {
          "base_uri": "https://localhost:8080/"
        },
        "outputId": "bd578837-03ef-47fc-f733-c081dc970d06"
      },
      "source": [
        "# scale the data\n",
        "scaler = MinMaxScaler(feature_range=(0,1))\n",
        "scaled_data = scaler.fit_transform(dataset)\n",
        "\n",
        "scaled_data\n"
      ],
      "execution_count": 7,
      "outputs": [
        {
          "output_type": "execute_result",
          "data": {
            "text/plain": [
              "array([[0.0061488 ],\n",
              "       [0.00680527],\n",
              "       [0.00816869],\n",
              "       ...,\n",
              "       [0.87590717],\n",
              "       [0.88455708],\n",
              "       [0.87698838]])"
            ]
          },
          "metadata": {
            "tags": []
          },
          "execution_count": 7
        }
      ]
    },
    {
      "cell_type": "code",
      "metadata": {
        "id": "C2TbowWbwL1d",
        "colab": {
          "base_uri": "https://localhost:8080/"
        },
        "outputId": "da5fc62b-f0ea-4a02-ace3-fa99e6d57bc3"
      },
      "source": [
        "# Create the training dataset\n",
        "# create the scaled training dataset\n",
        "train_data = scaled_data[0:training_data_len, :]\n",
        "\n",
        "#split the data into x_train and y_train dataset\n",
        "x_train = []\n",
        "y_train = []\n",
        "\n",
        "for i in range (60, len(train_data)):\n",
        "  x_train.append(train_data[i-60:i, 0])\n",
        "  y_train.append(train_data[i, 0])\n",
        "  if(i <= 61):\n",
        "    print(x_train)\n",
        "    print(y_train)\n",
        "    print()"
      ],
      "execution_count": 8,
      "outputs": [
        {
          "output_type": "stream",
          "text": [
            "[array([0.0061488 , 0.00680527, 0.00816869, 0.00946678, 0.00926776,\n",
            "       0.00971629, 0.00951133, 0.00916676, 0.00869744, 0.01014998,\n",
            "       0.01145994, 0.01105596, 0.00884299, 0.01095496, 0.00887566,\n",
            "       0.01667305, 0.01607005, 0.01685722, 0.01855928, 0.01959001,\n",
            "       0.01950387, 0.01918604, 0.02054056, 0.02181487, 0.02325851,\n",
            "       0.0255903 , 0.03048855, 0.03056281, 0.03328967, 0.03532738,\n",
            "       0.03182524, 0.03317382, 0.03314709, 0.03692846, 0.0363908 ,\n",
            "       0.03738589, 0.0391741 , 0.0401692 , 0.04303567, 0.04512389,\n",
            "       0.04572687, 0.04593778, 0.04236733, 0.04150589, 0.04163362,\n",
            "       0.04499021, 0.04593482, 0.04796361, 0.05274602, 0.05912652,\n",
            "       0.0579324 , 0.05793537, 0.06254846, 0.06399208, 0.06296431,\n",
            "       0.06202567, 0.06104839, 0.06429507, 0.06652291, 0.06745562])]\n",
            "[0.06515055661523342]\n",
            "\n",
            "[array([0.0061488 , 0.00680527, 0.00816869, 0.00946678, 0.00926776,\n",
            "       0.00971629, 0.00951133, 0.00916676, 0.00869744, 0.01014998,\n",
            "       0.01145994, 0.01105596, 0.00884299, 0.01095496, 0.00887566,\n",
            "       0.01667305, 0.01607005, 0.01685722, 0.01855928, 0.01959001,\n",
            "       0.01950387, 0.01918604, 0.02054056, 0.02181487, 0.02325851,\n",
            "       0.0255903 , 0.03048855, 0.03056281, 0.03328967, 0.03532738,\n",
            "       0.03182524, 0.03317382, 0.03314709, 0.03692846, 0.0363908 ,\n",
            "       0.03738589, 0.0391741 , 0.0401692 , 0.04303567, 0.04512389,\n",
            "       0.04572687, 0.04593778, 0.04236733, 0.04150589, 0.04163362,\n",
            "       0.04499021, 0.04593482, 0.04796361, 0.05274602, 0.05912652,\n",
            "       0.0579324 , 0.05793537, 0.06254846, 0.06399208, 0.06296431,\n",
            "       0.06202567, 0.06104839, 0.06429507, 0.06652291, 0.06745562]), array([0.00680527, 0.00816869, 0.00946678, 0.00926776, 0.00971629,\n",
            "       0.00951133, 0.00916676, 0.00869744, 0.01014998, 0.01145994,\n",
            "       0.01105596, 0.00884299, 0.01095496, 0.00887566, 0.01667305,\n",
            "       0.01607005, 0.01685722, 0.01855928, 0.01959001, 0.01950387,\n",
            "       0.01918604, 0.02054056, 0.02181487, 0.02325851, 0.0255903 ,\n",
            "       0.03048855, 0.03056281, 0.03328967, 0.03532738, 0.03182524,\n",
            "       0.03317382, 0.03314709, 0.03692846, 0.0363908 , 0.03738589,\n",
            "       0.0391741 , 0.0401692 , 0.04303567, 0.04512389, 0.04572687,\n",
            "       0.04593778, 0.04236733, 0.04150589, 0.04163362, 0.04499021,\n",
            "       0.04593482, 0.04796361, 0.05274602, 0.05912652, 0.0579324 ,\n",
            "       0.05793537, 0.06254846, 0.06399208, 0.06296431, 0.06202567,\n",
            "       0.06104839, 0.06429507, 0.06652291, 0.06745562, 0.06515056])]\n",
            "[0.06515055661523342, 0.062088042929699744]\n",
            "\n"
          ],
          "name": "stdout"
        }
      ]
    },
    {
      "cell_type": "code",
      "metadata": {
        "id": "EaBc3N_uxFz7"
      },
      "source": [
        "# convert the x_train and y_train to numpy arrays\n",
        "x_train, y_train = np.array(x_train), np.array(y_train)"
      ],
      "execution_count": 9,
      "outputs": []
    },
    {
      "cell_type": "code",
      "metadata": {
        "id": "rrtTaoCMx4QZ",
        "colab": {
          "base_uri": "https://localhost:8080/"
        },
        "outputId": "0a87d899-8fec-4829-93c4-1def99a724f3"
      },
      "source": [
        "# Reshape the data\n",
        "x_train = np.reshape(x_train, (x_train.shape[0], x_train.shape[1], 1))\n",
        "x_train.shape"
      ],
      "execution_count": 10,
      "outputs": [
        {
          "output_type": "execute_result",
          "data": {
            "text/plain": [
              "(1728, 60, 1)"
            ]
          },
          "metadata": {
            "tags": []
          },
          "execution_count": 10
        }
      ]
    },
    {
      "cell_type": "code",
      "metadata": {
        "id": "sduPayCrx_6E"
      },
      "source": [
        "# Build the LSTM model\n",
        "model = Sequential()\n",
        "model.add(LSTM(50, return_sequences=True, input_shape = (x_train.shape[1],1)))\n",
        "model.add(LSTM(50, return_sequences=False))\n",
        "model.add(Dense(25))\n",
        "model.add(Dense(1))"
      ],
      "execution_count": 11,
      "outputs": []
    },
    {
      "cell_type": "code",
      "metadata": {
        "id": "3ThAEbNKyU27"
      },
      "source": [
        "# Compile the model\n",
        "model.compile(optimizer='adam', loss='mean_squared_error')"
      ],
      "execution_count": 12,
      "outputs": []
    },
    {
      "cell_type": "code",
      "metadata": {
        "id": "yOivxo0fzLZr",
        "colab": {
          "base_uri": "https://localhost:8080/"
        },
        "outputId": "63f04f23-71b8-4980-f7b6-69acf5edc333"
      },
      "source": [
        "# Train the model\n",
        "model.fit(x_train, y_train, batch_size=1, epochs=5)"
      ],
      "execution_count": 13,
      "outputs": [
        {
          "output_type": "stream",
          "text": [
            "Epoch 1/5\n",
            "1728/1728 [==============================] - 39s 23ms/step - loss: 2.6101e-04\n",
            "Epoch 2/5\n",
            "1728/1728 [==============================] - 37s 22ms/step - loss: 1.1592e-04\n",
            "Epoch 3/5\n",
            "1728/1728 [==============================] - 37s 21ms/step - loss: 8.5119e-05\n",
            "Epoch 4/5\n",
            "1728/1728 [==============================] - 36s 21ms/step - loss: 6.8694e-05\n",
            "Epoch 5/5\n",
            "1728/1728 [==============================] - 37s 21ms/step - loss: 7.2517e-05\n"
          ],
          "name": "stdout"
        },
        {
          "output_type": "execute_result",
          "data": {
            "text/plain": [
              "<tensorflow.python.keras.callbacks.History at 0x7f7203f40e10>"
            ]
          },
          "metadata": {
            "tags": []
          },
          "execution_count": 13
        }
      ]
    },
    {
      "cell_type": "code",
      "metadata": {
        "id": "MkCUSY9fzWje"
      },
      "source": [
        "# Create the testing dataset\n",
        "# Create new array containing scaled values from index 1543 to 2003\n",
        "\n",
        "test_data = scaled_data[training_data_len - 60:, :]\n",
        "\n",
        "#create the datasets x_test, y_test\n",
        "x_test = []\n",
        "y_test = dataset[training_data_len:, :]\n",
        " \n",
        "for i in range(60, len(test_data)):\n",
        "  x_test.append(test_data[i-60:i, 0])\n"
      ],
      "execution_count": 14,
      "outputs": []
    },
    {
      "cell_type": "code",
      "metadata": {
        "id": "X7akqmGnzmQf"
      },
      "source": [
        "# convert the data to a numpy array \n",
        "x_test = np.array(x_test)"
      ],
      "execution_count": 15,
      "outputs": []
    },
    {
      "cell_type": "code",
      "metadata": {
        "id": "mSHz61Vi0a47"
      },
      "source": [
        "# Reshape the data\n",
        "x_test = np.reshape(x_test, (x_test.shape[0], x_test.shape[1], 1))"
      ],
      "execution_count": 16,
      "outputs": []
    },
    {
      "cell_type": "code",
      "metadata": {
        "id": "_O5LMuqj0t7p"
      },
      "source": [
        "# Get the models predicted price values\n",
        "predictions = model.predict(x_test)\n",
        "predictions = scaler.inverse_transform(predictions)\n"
      ],
      "execution_count": 17,
      "outputs": []
    },
    {
      "cell_type": "code",
      "metadata": {
        "id": "ZZPCHX5g1Oal",
        "colab": {
          "base_uri": "https://localhost:8080/"
        },
        "outputId": "14668d1c-36a8-4b4d-8962-13b072887a33"
      },
      "source": [
        "# Evaluate our model, Get the root mean squared error (RMSE)\n",
        "rmse = np.sqrt(np.mean(predictions - y_test)**2)\n",
        "rmse"
      ],
      "execution_count": 18,
      "outputs": [
        {
          "output_type": "execute_result",
          "data": {
            "text/plain": [
              "0.258895933761426"
            ]
          },
          "metadata": {
            "tags": []
          },
          "execution_count": 18
        }
      ]
    },
    {
      "cell_type": "code",
      "metadata": {
        "id": "XUGvb8du1YhM",
        "colab": {
          "base_uri": "https://localhost:8080/",
          "height": 660
        },
        "outputId": "42409507-383e-4cfb-d9f3-f40147fddb06"
      },
      "source": [
        "# Plot the data \n",
        "train = data[:training_data_len]\n",
        "valid = data[training_data_len:]\n",
        "valid['Predictions'] = predictions\n",
        "\n",
        "# Visualize the data\n",
        "plt.figure(figsize=(16, 8))\n",
        "plt.title('Model')\n",
        "plt.xlabel('Date', fontsize=18)\n",
        "plt.ylabel('Close price USD ($)', fontsize=18)\n",
        "plt.plot(train['Close'])\n",
        "plt.plot(valid[['Close', 'Predictions']])\n",
        "plt.legend(['Train', 'Val', 'Predictions'], loc = 'lower right')\n",
        "plt.show()"
      ],
      "execution_count": 19,
      "outputs": [
        {
          "output_type": "stream",
          "text": [
            "/usr/local/lib/python3.6/dist-packages/ipykernel_launcher.py:4: SettingWithCopyWarning: \n",
            "A value is trying to be set on a copy of a slice from a DataFrame.\n",
            "Try using .loc[row_indexer,col_indexer] = value instead\n",
            "\n",
            "See the caveats in the documentation: https://pandas.pydata.org/pandas-docs/stable/user_guide/indexing.html#returning-a-view-versus-a-copy\n",
            "  after removing the cwd from sys.path.\n"
          ],
          "name": "stderr"
        },
        {
          "output_type": "display_data",
          "data": {
            "image/png": "[encoded data removed]",
            "text/plain": [
              "<Figure size 1152x576 with 1 Axes>"
            ]
          },
          "metadata": {
            "tags": []
          }
        }
      ]
    },
    {
      "cell_type": "code",
      "metadata": {
        "id": "YBI0PKgc2v9M",
        "colab": {
          "base_uri": "https://localhost:8080/",
          "height": 450
        },
        "outputId": "12e59c00-4533-486d-89d0-ad32af18afb4"
      },
      "source": [
        "# show the valid and prdicted prices\n",
        "valid"
      ],
      "execution_count": 20,
      "outputs": [
        {
          "output_type": "execute_result",
          "data": {
            "text/html": [
              "<div>\n",
              "<style scoped>\n",
              "    .dataframe tbody tr th:only-of-type {\n",
              "        vertical-align: middle;\n",
              "    }\n",
              "\n",
              "    .dataframe tbody tr th {\n",
              "        vertical-align: top;\n",
              "    }\n",
              "\n",
              "    .dataframe thead th {\n",
              "        text-align: right;\n",
              "    }\n",
              "</style>\n",
              "<table border=\"1\" class=\"dataframe\">\n",
              "  <thead>\n",
              "    <tr style=\"text-align: right;\">\n",
              "      <th></th>\n",
              "      <th>Close</th>\n",
              "      <th>Predictions</th>\n",
              "    </tr>\n",
              "    <tr>\n",
              "      <th>Date</th>\n",
              "      <th></th>\n",
              "      <th></th>\n",
              "    </tr>\n",
              "  </thead>\n",
              "  <tbody>\n",
              "    <tr>\n",
              "      <th>2019-02-12</th>\n",
              "      <td>42.722500</td>\n",
              "      <td>42.405899</td>\n",
              "    </tr>\n",
              "    <tr>\n",
              "      <th>2019-02-13</th>\n",
              "      <td>42.544998</td>\n",
              "      <td>42.748306</td>\n",
              "    </tr>\n",
              "    <tr>\n",
              "      <th>2019-02-14</th>\n",
              "      <td>42.700001</td>\n",
              "      <td>42.670044</td>\n",
              "    </tr>\n",
              "    <tr>\n",
              "      <th>2019-02-15</th>\n",
              "      <td>42.605000</td>\n",
              "      <td>42.792637</td>\n",
              "    </tr>\n",
              "    <tr>\n",
              "      <th>2019-02-19</th>\n",
              "      <td>42.732498</td>\n",
              "      <td>42.725586</td>\n",
              "    </tr>\n",
              "    <tr>\n",
              "      <th>...</th>\n",
              "      <td>...</td>\n",
              "      <td>...</td>\n",
              "    </tr>\n",
              "    <tr>\n",
              "      <th>2020-11-11</th>\n",
              "      <td>119.489998</td>\n",
              "      <td>115.887863</td>\n",
              "    </tr>\n",
              "    <tr>\n",
              "      <th>2020-11-12</th>\n",
              "      <td>119.209999</td>\n",
              "      <td>119.950829</td>\n",
              "    </tr>\n",
              "    <tr>\n",
              "      <th>2020-11-13</th>\n",
              "      <td>119.260002</td>\n",
              "      <td>119.321259</td>\n",
              "    </tr>\n",
              "    <tr>\n",
              "      <th>2020-11-16</th>\n",
              "      <td>120.300003</td>\n",
              "      <td>119.383545</td>\n",
              "    </tr>\n",
              "    <tr>\n",
              "      <th>2020-11-17</th>\n",
              "      <td>119.389999</td>\n",
              "      <td>120.513489</td>\n",
              "    </tr>\n",
              "  </tbody>\n",
              "</table>\n",
              "<p>447 rows × 2 columns</p>\n",
              "</div>"
            ],
            "text/plain": [
              "                 Close  Predictions\n",
              "Date                               \n",
              "2019-02-12   42.722500    42.405899\n",
              "2019-02-13   42.544998    42.748306\n",
              "2019-02-14   42.700001    42.670044\n",
              "2019-02-15   42.605000    42.792637\n",
              "2019-02-19   42.732498    42.725586\n",
              "...                ...          ...\n",
              "2020-11-11  119.489998   115.887863\n",
              "2020-11-12  119.209999   119.950829\n",
              "2020-11-13  119.260002   119.321259\n",
              "2020-11-16  120.300003   119.383545\n",
              "2020-11-17  119.389999   120.513489\n",
              "\n",
              "[447 rows x 2 columns]"
            ]
          },
          "metadata": {
            "tags": []
          },
          "execution_count": 20
        }
      ]
    },
    {
      "cell_type": "code",
      "metadata": {
        "id": "SdpxaBdx3M8I",
        "colab": {
          "base_uri": "https://localhost:8080/"
        },
        "outputId": "d675af1f-0655-4d65-b317-2fbeca1fb388"
      },
      "source": [
        "# Get the quote\n",
        "\n",
        "apple_quote = web.DataReader('AAPL', data_source='yahoo', start='2012-01-01', end='2020-11-19')\n",
        "\n",
        "#create a new DF\n",
        "new_df = apple_quote.filter(['Close'])\n",
        "\n",
        "#Get the last 60 days closing price values and convert the df to an array\n",
        "last_60_days = new_df[-60:].values\n",
        "\n",
        "#scale the data to be values between 0 and 1\n",
        "last_60_days_scaled = scaler.transform(last_60_days)\n",
        "\n",
        "#create an empty list\n",
        "X_test = []\n",
        "\n",
        "#Append the past 60 days\n",
        "X_test.append(last_60_days_scaled)\n",
        "\n",
        "#convert the X_test data set to an numpy array\n",
        "X_test = np.array(X_test)\n",
        "\n",
        "#Reshape the data\n",
        "X_test = np.reshape(X_test, (X_test.shape[0], X_test.shape[1], 1))\n",
        "\n",
        "#Get the predicted scaled price\n",
        "pred_price = model.predict(X_test)\n",
        "\n",
        "# Undo the scaling\n",
        "pred_price = scaler.inverse_transform(pred_price)\n",
        "\n",
        "print(pred_price)\n",
        "\n"
      ],
      "execution_count": 22,
      "outputs": [
        {
          "output_type": "stream",
          "text": [
            "[[118.084206]]\n"
          ],
          "name": "stdout"
        }
      ]
    },
    {
      "cell_type": "code",
      "metadata": {
        "id": "fcQAAef84-Yv",
        "colab": {
          "base_uri": "https://localhost:8080/"
        },
        "outputId": "5d067542-4aeb-464a-c473-8a9194493448"
      },
      "source": [
        "# Get the quote\n",
        "\n",
        "apple_quote2 = web.DataReader('AAPL', data_source='yahoo', start='2020-11-19', end='2020-11-19')\n",
        "print(apple_quote2['Close'])"
      ],
      "execution_count": 23,
      "outputs": [
        {
          "output_type": "stream",
          "text": [
            "Date\n",
            "2020-11-18    118.029999\n",
            "Name: Close, dtype: float64\n"
          ],
          "name": "stdout"
        }
      ]
    },
    {
      "cell_type": "code",
      "metadata": {
        "id": "LGmpgB8T5lWS"
      },
      "source": [
        ""
      ],
      "execution_count": null,
      "outputs": []
    }
  ]
}